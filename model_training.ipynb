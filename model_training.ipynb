{
 "cells": [
  {
   "cell_type": "markdown",
   "metadata": {},
   "source": [
    "### Training a model to drive Udacity's self driving car simulator"
   ]
  },
  {
   "cell_type": "markdown",
   "metadata": {},
   "source": [
    "#### Step 1.: Load the training data"
   ]
  },
  {
   "cell_type": "code",
   "execution_count": 5,
   "metadata": {},
   "outputs": [
    {
     "data": {
      "text/html": [
       "<div>\n",
       "<style>\n",
       "    .dataframe thead tr:only-child th {\n",
       "        text-align: right;\n",
       "    }\n",
       "\n",
       "    .dataframe thead th {\n",
       "        text-align: left;\n",
       "    }\n",
       "\n",
       "    .dataframe tbody tr th {\n",
       "        vertical-align: top;\n",
       "    }\n",
       "</style>\n",
       "<table border=\"1\" class=\"dataframe\">\n",
       "  <thead>\n",
       "    <tr style=\"text-align: right;\">\n",
       "      <th></th>\n",
       "      <th>cam_centre</th>\n",
       "      <th>cam_left</th>\n",
       "      <th>cam_right</th>\n",
       "      <th>steer_angle</th>\n",
       "      <th>throttle</th>\n",
       "      <th>brake</th>\n",
       "      <th>speed</th>\n",
       "    </tr>\n",
       "  </thead>\n",
       "  <tbody>\n",
       "    <tr>\n",
       "      <th>0</th>\n",
       "      <td>C:\\Users\\dev\\Documents\\IMG\\center_2018_03_25_1...</td>\n",
       "      <td>C:\\Users\\dev\\Documents\\IMG\\left_2018_03_25_14_...</td>\n",
       "      <td>C:\\Users\\dev\\Documents\\IMG\\right_2018_03_25_14...</td>\n",
       "      <td>0.0</td>\n",
       "      <td>0.0</td>\n",
       "      <td>0.0</td>\n",
       "      <td>0.984607</td>\n",
       "    </tr>\n",
       "    <tr>\n",
       "      <th>1</th>\n",
       "      <td>C:\\Users\\dev\\Documents\\IMG\\center_2018_03_25_1...</td>\n",
       "      <td>C:\\Users\\dev\\Documents\\IMG\\left_2018_03_25_14_...</td>\n",
       "      <td>C:\\Users\\dev\\Documents\\IMG\\right_2018_03_25_14...</td>\n",
       "      <td>0.0</td>\n",
       "      <td>0.0</td>\n",
       "      <td>0.0</td>\n",
       "      <td>0.970973</td>\n",
       "    </tr>\n",
       "    <tr>\n",
       "      <th>2</th>\n",
       "      <td>C:\\Users\\dev\\Documents\\IMG\\center_2018_03_25_1...</td>\n",
       "      <td>C:\\Users\\dev\\Documents\\IMG\\left_2018_03_25_14_...</td>\n",
       "      <td>C:\\Users\\dev\\Documents\\IMG\\right_2018_03_25_14...</td>\n",
       "      <td>0.0</td>\n",
       "      <td>0.0</td>\n",
       "      <td>0.0</td>\n",
       "      <td>0.957503</td>\n",
       "    </tr>\n",
       "    <tr>\n",
       "      <th>3</th>\n",
       "      <td>C:\\Users\\dev\\Documents\\IMG\\center_2018_03_25_1...</td>\n",
       "      <td>C:\\Users\\dev\\Documents\\IMG\\left_2018_03_25_14_...</td>\n",
       "      <td>C:\\Users\\dev\\Documents\\IMG\\right_2018_03_25_14...</td>\n",
       "      <td>0.0</td>\n",
       "      <td>0.0</td>\n",
       "      <td>0.0</td>\n",
       "      <td>0.941993</td>\n",
       "    </tr>\n",
       "    <tr>\n",
       "      <th>4</th>\n",
       "      <td>C:\\Users\\dev\\Documents\\IMG\\center_2018_03_25_1...</td>\n",
       "      <td>C:\\Users\\dev\\Documents\\IMG\\left_2018_03_25_14_...</td>\n",
       "      <td>C:\\Users\\dev\\Documents\\IMG\\right_2018_03_25_14...</td>\n",
       "      <td>0.0</td>\n",
       "      <td>0.0</td>\n",
       "      <td>0.0</td>\n",
       "      <td>0.928872</td>\n",
       "    </tr>\n",
       "  </tbody>\n",
       "</table>\n",
       "</div>"
      ],
      "text/plain": [
       "                                          cam_centre  \\\n",
       "0  C:\\Users\\dev\\Documents\\IMG\\center_2018_03_25_1...   \n",
       "1  C:\\Users\\dev\\Documents\\IMG\\center_2018_03_25_1...   \n",
       "2  C:\\Users\\dev\\Documents\\IMG\\center_2018_03_25_1...   \n",
       "3  C:\\Users\\dev\\Documents\\IMG\\center_2018_03_25_1...   \n",
       "4  C:\\Users\\dev\\Documents\\IMG\\center_2018_03_25_1...   \n",
       "\n",
       "                                            cam_left  \\\n",
       "0  C:\\Users\\dev\\Documents\\IMG\\left_2018_03_25_14_...   \n",
       "1  C:\\Users\\dev\\Documents\\IMG\\left_2018_03_25_14_...   \n",
       "2  C:\\Users\\dev\\Documents\\IMG\\left_2018_03_25_14_...   \n",
       "3  C:\\Users\\dev\\Documents\\IMG\\left_2018_03_25_14_...   \n",
       "4  C:\\Users\\dev\\Documents\\IMG\\left_2018_03_25_14_...   \n",
       "\n",
       "                                           cam_right  steer_angle  throttle  \\\n",
       "0  C:\\Users\\dev\\Documents\\IMG\\right_2018_03_25_14...          0.0       0.0   \n",
       "1  C:\\Users\\dev\\Documents\\IMG\\right_2018_03_25_14...          0.0       0.0   \n",
       "2  C:\\Users\\dev\\Documents\\IMG\\right_2018_03_25_14...          0.0       0.0   \n",
       "3  C:\\Users\\dev\\Documents\\IMG\\right_2018_03_25_14...          0.0       0.0   \n",
       "4  C:\\Users\\dev\\Documents\\IMG\\right_2018_03_25_14...          0.0       0.0   \n",
       "\n",
       "   brake     speed  \n",
       "0    0.0  0.984607  \n",
       "1    0.0  0.970973  \n",
       "2    0.0  0.957503  \n",
       "3    0.0  0.941993  \n",
       "4    0.0  0.928872  "
      ]
     },
     "execution_count": 5,
     "metadata": {},
     "output_type": "execute_result"
    }
   ],
   "source": [
    "import pandas as pd\n",
    "import os\n",
    "\n",
    "data_frame = pd.read_csv(os.path.join('data', 'driving_log.csv'), \n",
    "                         names=['cam_centre', 'cam_left', 'cam_right', 'steer_angle', 'throttle', 'brake', 'speed'])\n",
    "data_frame.head()"
   ]
  },
  {
   "cell_type": "code",
   "execution_count": 6,
   "metadata": {
    "collapsed": true
   },
   "outputs": [],
   "source": [
    "from sklearn.model_selection import train_test_split\n",
    "\n",
    "X = data_frame[['cam_centre', 'cam_left', 'cam_right']].values\n",
    "y = data_frame['steer_angle'].values\n",
    "\n",
    "X_training, X_validation, y_training, y_validation = train_test_split(X, y, test_size=0.2)"
   ]
  },
  {
   "cell_type": "markdown",
   "metadata": {},
   "source": [
    "### Step 2.: Build a model"
   ]
  },
  {
   "cell_type": "code",
   "execution_count": 7,
   "metadata": {},
   "outputs": [
    {
     "name": "stderr",
     "output_type": "stream",
     "text": [
      "C:\\Users\\dev\\Anaconda3\\lib\\site-packages\\ipykernel_launcher.py:6: UserWarning: Update your `Conv2D` call to the Keras 2 API: `Conv2D(24, (5, 5), activation=\"elu\", strides=(2, 2))`\n",
      "  \n",
      "C:\\Users\\dev\\Anaconda3\\lib\\site-packages\\ipykernel_launcher.py:7: UserWarning: Update your `Conv2D` call to the Keras 2 API: `Conv2D(36, (5, 5), activation=\"elu\", strides=(2, 2))`\n",
      "  import sys\n",
      "C:\\Users\\dev\\Anaconda3\\lib\\site-packages\\ipykernel_launcher.py:8: UserWarning: Update your `Conv2D` call to the Keras 2 API: `Conv2D(48, (5, 5), activation=\"elu\", strides=(2, 2))`\n",
      "  \n",
      "C:\\Users\\dev\\Anaconda3\\lib\\site-packages\\ipykernel_launcher.py:9: UserWarning: Update your `Conv2D` call to the Keras 2 API: `Conv2D(64, (3, 3), activation=\"elu\")`\n",
      "  if __name__ == '__main__':\n",
      "C:\\Users\\dev\\Anaconda3\\lib\\site-packages\\ipykernel_launcher.py:10: UserWarning: Update your `Conv2D` call to the Keras 2 API: `Conv2D(64, (3, 3), activation=\"elu\")`\n",
      "  # Remove the CWD from sys.path while we load stuff.\n"
     ]
    },
    {
     "name": "stdout",
     "output_type": "stream",
     "text": [
      "_________________________________________________________________\n",
      "Layer (type)                 Output Shape              Param #   \n",
      "=================================================================\n",
      "lambda_2 (Lambda)            (None, 66, 200, 3)        0         \n",
      "_________________________________________________________________\n",
      "conv2d_6 (Conv2D)            (None, 31, 98, 24)        1824      \n",
      "_________________________________________________________________\n",
      "conv2d_7 (Conv2D)            (None, 14, 47, 36)        21636     \n",
      "_________________________________________________________________\n",
      "conv2d_8 (Conv2D)            (None, 5, 22, 48)         43248     \n",
      "_________________________________________________________________\n",
      "conv2d_9 (Conv2D)            (None, 3, 20, 64)         27712     \n",
      "_________________________________________________________________\n",
      "conv2d_10 (Conv2D)           (None, 1, 18, 64)         36928     \n",
      "_________________________________________________________________\n",
      "dropout_2 (Dropout)          (None, 1, 18, 64)         0         \n",
      "_________________________________________________________________\n",
      "flatten_2 (Flatten)          (None, 1152)              0         \n",
      "_________________________________________________________________\n",
      "dense_5 (Dense)              (None, 100)               115300    \n",
      "_________________________________________________________________\n",
      "dense_6 (Dense)              (None, 50)                5050      \n",
      "_________________________________________________________________\n",
      "dense_7 (Dense)              (None, 10)                510       \n",
      "_________________________________________________________________\n",
      "dense_8 (Dense)              (None, 1)                 11        \n",
      "=================================================================\n",
      "Total params: 252,219\n",
      "Trainable params: 252,219\n",
      "Non-trainable params: 0\n",
      "_________________________________________________________________\n"
     ]
    }
   ],
   "source": [
    "from keras.models import Sequential\n",
    "from keras.layers import Lambda, Conv2D, MaxPooling2D, Dropout, Dense, Flatten\n",
    "\n",
    "model = Sequential()\n",
    "model.add(Lambda(lambda x: x/127.5-1.0, input_shape=(66,200,3)))\n",
    "model.add(Conv2D(24, 5, 5, activation='elu', subsample=(2, 2)))\n",
    "model.add(Conv2D(36, 5, 5, activation='elu', subsample=(2, 2)))\n",
    "model.add(Conv2D(48, 5, 5, activation='elu', subsample=(2, 2)))\n",
    "model.add(Conv2D(64, 3, 3, activation='elu'))\n",
    "model.add(Conv2D(64, 3, 3, activation='elu'))\n",
    "model.add(Dropout(0.5))\n",
    "model.add(Flatten())\n",
    "model.add(Dense(100, activation='elu'))\n",
    "model.add(Dense(50, activation='elu'))\n",
    "model.add(Dense(10, activation='elu'))\n",
    "model.add(Dense(1))\n",
    "model.summary()"
   ]
  },
  {
   "cell_type": "markdown",
   "metadata": {},
   "source": [
    "### Step 3.: Training"
   ]
  },
  {
   "cell_type": "code",
   "execution_count": null,
   "metadata": {},
   "outputs": [
    {
     "name": "stderr",
     "output_type": "stream",
     "text": [
      "C:\\Users\\dev\\Anaconda3\\lib\\site-packages\\ipykernel_launcher.py:18: UserWarning: The semantics of the Keras 2 argument `steps_per_epoch` is not the same as the Keras 1 argument `samples_per_epoch`. `steps_per_epoch` is the number of batches to draw from the generator at each epoch. Basically steps_per_epoch = samples_per_epoch/batch_size. Similarly `nb_val_samples`->`validation_steps` and `val_samples`->`steps` arguments have changed. Update your method calls accordingly.\n",
      "C:\\Users\\dev\\Anaconda3\\lib\\site-packages\\ipykernel_launcher.py:18: UserWarning: Update your `fit_generator` call to the Keras 2 API: `fit_generator(<generator..., validation_data=<generator..., validation_steps=2571, callbacks=[<keras.ca..., verbose=1, steps_per_epoch=20000, epochs=15)`\n"
     ]
    },
    {
     "name": "stdout",
     "output_type": "stream",
     "text": [
      "Epoch 1/15\n"
     ]
    },
    {
     "name": "stderr",
     "output_type": "stream",
     "text": [
      "C:\\Users\\dev\\Desktop\\exp2\\helper.py:72: VisibleDeprecationWarning: boolean index did not match indexed array along dimension 0; dimension is 160 but corresponding boolean dimension is 66\n",
      "  mask[(ym - y1) * (x2 - x1) - (y2 - y1) * (xm - x1) > 0] = 1\n"
     ]
    },
    {
     "name": "stdout",
     "output_type": "stream",
     "text": [
      "19999/20000 [============================>.] - ETA: 0s - loss: 0.0424\n",
      "Epoch 00001: saving model to model-001.h5\n",
      "20000/20000 [==============================] - 10547s 527ms/step - loss: 0.0424 - val_loss: 0.0690\n",
      "Epoch 2/15\n",
      "19999/20000 [============================>.] - ETA: 0s - loss: 0.0395\n",
      "Epoch 00002: saving model to model-002.h5\n",
      "20000/20000 [==============================] - 10473s 524ms/step - loss: 0.0395 - val_loss: 0.0695\n",
      "Epoch 3/15\n",
      "19999/20000 [============================>.] - ETA: 0s - loss: 0.0389\n",
      "Epoch 00003: saving model to model-003.h5\n",
      "20000/20000 [==============================] - 10572s 529ms/step - loss: 0.0389 - val_loss: 0.0691\n",
      "Epoch 4/15\n",
      "19999/20000 [============================>.] - ETA: 0s - loss: 0.0384\n",
      "Epoch 00004: saving model to model-004.h5\n",
      "20000/20000 [==============================] - 10455s 523ms/step - loss: 0.0384 - val_loss: 0.0689\n",
      "Epoch 5/15\n",
      "19999/20000 [============================>.] - ETA: 0s - loss: 0.0382\n",
      "Epoch 00005: saving model to model-005.h5\n",
      "20000/20000 [==============================] - 10400s 520ms/step - loss: 0.0382 - val_loss: 0.0690\n",
      "Epoch 6/15\n",
      "19999/20000 [============================>.] - ETA: 0s - loss: 0.0379\n",
      "Epoch 00006: saving model to model-006.h5\n",
      "20000/20000 [==============================] - 10407s 520ms/step - loss: 0.0379 - val_loss: 0.0689\n",
      "Epoch 7/15\n",
      "19999/20000 [============================>.] - ETA: 0s - loss: 0.0377\n",
      "Epoch 00007: saving model to model-007.h5\n",
      "20000/20000 [==============================] - 10404s 520ms/step - loss: 0.0377 - val_loss: 0.0690\n",
      "Epoch 8/15\n",
      "19999/20000 [============================>.] - ETA: 1s - loss: 0.0376\n",
      "Epoch 00008: saving model to model-008.h5\n",
      "20000/20000 [==============================] - 23414s 1s/step - loss: 0.0376 - val_loss: 0.0688\n",
      "Epoch 9/15\n",
      "19999/20000 [============================>.] - ETA: 1s - loss: 0.0375\n",
      "Epoch 00009: saving model to model-009.h5\n",
      "20000/20000 [==============================] - 27500s 1s/step - loss: 0.0375 - val_loss: 0.0688\n",
      "Epoch 10/15\n",
      "19999/20000 [============================>.] - ETA: 0s - loss: 0.0372\n",
      "Epoch 00010: saving model to model-010.h5\n",
      "20000/20000 [==============================] - 10284s 514ms/step - loss: 0.0372 - val_loss: 0.0688\n",
      "Epoch 11/15\n",
      "19999/20000 [============================>.] - ETA: 0s - loss: 0.0371\n",
      "Epoch 00011: saving model to model-011.h5\n",
      "20000/20000 [==============================] - 10277s 514ms/step - loss: 0.0371 - val_loss: 0.0688\n",
      "Epoch 12/15\n",
      "19999/20000 [============================>.] - ETA: 0s - loss: 0.0370\n",
      "Epoch 00012: saving model to model-012.h5\n",
      "20000/20000 [==============================] - 10280s 514ms/step - loss: 0.0370 - val_loss: 0.0688\n",
      "Epoch 13/15\n",
      "19999/20000 [============================>.] - ETA: 0s - loss: 0.0369\n",
      "Epoch 00013: saving model to model-013.h5\n",
      "20000/20000 [==============================] - 15290s 765ms/step - loss: 0.0369 - val_loss: 0.0688\n",
      "Epoch 14/15\n",
      "11781/20000 [================>.............] - ETA: 1:50:41 - loss: 0.0369"
     ]
    }
   ],
   "source": [
    "from keras.optimizers import Adam\n",
    "from keras.callbacks import ModelCheckpoint\n",
    "from helper import training_generator\n",
    "\n",
    "checkpointer = ModelCheckpoint('model-{epoch:03d}.h5',\n",
    "                                 monitor='val_loss',\n",
    "                                 verbose=1,\n",
    "                                 save_best_only=False,\n",
    "                                 mode='auto')\n",
    "\n",
    "model.compile(loss='mean_squared_error', optimizer=Adam(lr=0.0001))\n",
    "hist = model.fit_generator(training_generator(X_training, y_training, 40, True),\n",
    "                    samples_per_epoch=20000,\n",
    "                    nb_epoch=15,\n",
    "                    validation_data=training_generator(X_validation, y_validation, 40, False),\n",
    "                    validation_steps=len(X_validation),\n",
    "                    callbacks=[checkpointer],\n",
    "                    verbose=1)"
   ]
  },
  {
   "cell_type": "code",
   "execution_count": null,
   "metadata": {
    "collapsed": true
   },
   "outputs": [],
   "source": []
  }
 ],
 "metadata": {
  "kernelspec": {
   "display_name": "Python 3",
   "language": "python",
   "name": "python3"
  },
  "language_info": {
   "codemirror_mode": {
    "name": "ipython",
    "version": 3
   },
   "file_extension": ".py",
   "mimetype": "text/x-python",
   "name": "python",
   "nbconvert_exporter": "python",
   "pygments_lexer": "ipython3",
   "version": "3.6.3"
  }
 },
 "nbformat": 4,
 "nbformat_minor": 2
}
